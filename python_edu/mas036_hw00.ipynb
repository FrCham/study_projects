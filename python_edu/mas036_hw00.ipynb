{
 "cells": [
  {
   "cell_type": "markdown",
   "metadata": {},
   "source": [
    "# Знакомство с SymPy"
   ]
  },
  {
   "cell_type": "markdown",
   "metadata": {},
   "source": [
    "### Индивидуальное домашнее задание"
   ]
  },
  {
   "cell_type": "markdown",
   "metadata": {},
   "source": [
    "### Матвеев Александр Сергеевич (mas036), группа: М21-100"
   ]
  },
  {
   "cell_type": "markdown",
   "metadata": {},
   "source": [
    "**Выполните указанные ниже действия, сохраните свою работу в виде ipynb-файла с именем `mas036_hw00.ipynb` и прикрепите этот файл к сообщению своему преподавателю**."
   ]
  },
  {
   "cell_type": "markdown",
   "metadata": {},
   "source": [
    "**Задание 1.** Вычислите значение выражения $\\displaystyle\\sqrt[5]{\\frac{\\sqrt{3}}{{(\\sqrt[3]\\pi-1)}^3{(\\sin3+4)}^5}+\\sqrt[8]{e^3}}$ с точностью 40 значащих десятичных цифр."
   ]
  },
  {
   "cell_type": "code",
   "execution_count": 1,
   "metadata": {},
   "outputs": [],
   "source": [
    "from sympy import *"
   ]
  },
  {
   "cell_type": "code",
   "execution_count": 2,
   "metadata": {},
   "outputs": [
    {
     "data": {
      "text/latex": [
       "$\\displaystyle \\sqrt[5]{\\frac{\\sqrt{3}}{\\left(-1 + \\sqrt[3]{\\pi}\\right)^{3} \\left(\\sin{\\left(3 \\right)} + 4\\right)^{5}} + e^{\\frac{3}{8}}}$"
      ],
      "text/plain": [
       "(sqrt(3)/((-1 + pi**(1/3))**3*(sin(3) + 4)**5) + exp(3/8))**(1/5)"
      ]
     },
     "execution_count": 2,
     "metadata": {},
     "output_type": "execute_result"
    }
   ],
   "source": [
    "eq = Pow(\n",
    "    (\n",
    "        sqrt(3) /\n",
    "        (\n",
    "            Pow(Pow(pi, S(1)/S(3)) - S(1), S(3)) *\n",
    "            Pow(sin(S(3)) + S(4), S(5))\n",
    "        ) +\n",
    "        Pow(exp(S(3)), S(1)/S(8))\n",
    "    ),\n",
    "    S(1)/S(5))\n",
    "eq"
   ]
  },
  {
   "cell_type": "code",
   "execution_count": 3,
   "metadata": {},
   "outputs": [
    {
     "data": {
      "text/latex": [
       "$\\displaystyle 1.079977354949029326812062735492565046116$"
      ],
      "text/plain": [
       "1.079977354949029326812062735492565046116"
      ]
     },
     "execution_count": 3,
     "metadata": {},
     "output_type": "execute_result"
    }
   ],
   "source": [
    "ans = eq.evalf(40)\n",
    "ans"
   ]
  },
  {
   "cell_type": "code",
   "execution_count": 4,
   "metadata": {},
   "outputs": [
    {
     "name": "stdout",
     "output_type": "stream",
     "text": [
      "Ответ: 1.079977354949029326812062735492565046116\n"
     ]
    }
   ],
   "source": [
    "print(f'Ответ: {ans}')"
   ]
  },
  {
   "cell_type": "markdown",
   "metadata": {},
   "source": [
    "**Задание 2.** Раскройте скобки в выражении $\\left(x - 2 y\\right) \\left(u + z - 1\\right)^{2} \\left(2 u + z - 1\\right)^{2}$."
   ]
  },
  {
   "cell_type": "code",
   "execution_count": 5,
   "metadata": {},
   "outputs": [],
   "source": [
    "x, y, z, u = symbols('x y z u')"
   ]
  },
  {
   "cell_type": "code",
   "execution_count": 6,
   "metadata": {},
   "outputs": [
    {
     "data": {
      "text/latex": [
       "$\\displaystyle \\left(x - 2 y\\right) \\left(u + z - 1\\right)^{2} \\left(2 u + z - 1\\right)^{2}$"
      ],
      "text/plain": [
       "(x - 2*y)*(u + z - 1)**2*(2*u + z - 1)**2"
      ]
     },
     "execution_count": 6,
     "metadata": {},
     "output_type": "execute_result"
    }
   ],
   "source": [
    "func = (x - 2 * y) * Pow(u + z - 1, 2) * Pow(2 * u + z - 1, 2)\n",
    "func"
   ]
  },
  {
   "cell_type": "code",
   "execution_count": 7,
   "metadata": {},
   "outputs": [
    {
     "data": {
      "text/latex": [
       "$\\displaystyle 4 u^{4} x - 8 u^{4} y + 12 u^{3} x z - 12 u^{3} x - 24 u^{3} y z + 24 u^{3} y + 13 u^{2} x z^{2} - 26 u^{2} x z + 13 u^{2} x - 26 u^{2} y z^{2} + 52 u^{2} y z - 26 u^{2} y + 6 u x z^{3} - 18 u x z^{2} + 18 u x z - 6 u x - 12 u y z^{3} + 36 u y z^{2} - 36 u y z + 12 u y + x z^{4} - 4 x z^{3} + 6 x z^{2} - 4 x z + x - 2 y z^{4} + 8 y z^{3} - 12 y z^{2} + 8 y z - 2 y$"
      ],
      "text/plain": [
       "4*u**4*x - 8*u**4*y + 12*u**3*x*z - 12*u**3*x - 24*u**3*y*z + 24*u**3*y + 13*u**2*x*z**2 - 26*u**2*x*z + 13*u**2*x - 26*u**2*y*z**2 + 52*u**2*y*z - 26*u**2*y + 6*u*x*z**3 - 18*u*x*z**2 + 18*u*x*z - 6*u*x - 12*u*y*z**3 + 36*u*y*z**2 - 36*u*y*z + 12*u*y + x*z**4 - 4*x*z**3 + 6*x*z**2 - 4*x*z + x - 2*y*z**4 + 8*y*z**3 - 12*y*z**2 + 8*y*z - 2*y"
      ]
     },
     "execution_count": 7,
     "metadata": {},
     "output_type": "execute_result"
    }
   ],
   "source": [
    "ans = func.expand()\n",
    "ans"
   ]
  },
  {
   "cell_type": "code",
   "execution_count": 8,
   "metadata": {},
   "outputs": [
    {
     "name": "stdout",
     "output_type": "stream",
     "text": [
      "Ответ: 4*u**4*x - 8*u**4*y + 12*u**3*x*z - 12*u**3*x - 24*u**3*y*z + 24*u**3*y + 13*u**2*x*z**2 - 26*u**2*x*z + 13*u**2*x - 26*u**2*y*z**2 + 52*u**2*y*z - 26*u**2*y + 6*u*x*z**3 - 18*u*x*z**2 + 18*u*x*z - 6*u*x - 12*u*y*z**3 + 36*u*y*z**2 - 36*u*y*z + 12*u*y + x*z**4 - 4*x*z**3 + 6*x*z**2 - 4*x*z + x - 2*y*z**4 + 8*y*z**3 - 12*y*z**2 + 8*y*z - 2*y\n"
     ]
    }
   ],
   "source": [
    "print(f'Ответ: {ans}')"
   ]
  },
  {
   "cell_type": "markdown",
   "metadata": {},
   "source": [
    "**Задание 3.** Разложите на множители многочлен $2 u^{3} x^{2} - 8 u^{3} x y + 8 u^{3} y^{2} - 7 u^{2} x^{2} z - u^{2} x^{2} + 28 u^{2} x y z + 4 u^{2} x y - 28 u^{2} y^{2} z - 4 u^{2} y^{2} + 4 u x^{2} z^{2} + 4 u x^{2} z - 16 u x y z^{2} - 16 u x y z + 16 u y^{2} z^{2} + 16 u y^{2} z + 4 x^{2} z^{3} - 4 x^{2} z^{2} - 16 x y z^{3} + 16 x y z^{2} + 16 y^{2} z^{3} - 16 y^{2} z^{2}$."
   ]
  },
  {
   "cell_type": "code",
   "execution_count": 9,
   "metadata": {},
   "outputs": [
    {
     "data": {
      "text/latex": [
       "$\\displaystyle 2 u^{3} x^{2} - 8 u^{3} x y + 8 u^{3} y^{2} - 7 u^{2} x^{2} z - u^{2} x^{2} + 28 u^{2} x y z + 4 u^{2} x y - 28 u^{2} y^{2} z - 4 u^{2} y^{2} + 4 u x^{2} z^{2} + 4 u x^{2} z - 16 u x y z^{2} - 16 u x y z + 16 u y^{2} z^{2} + 16 u y^{2} z + 4 x^{2} z^{3} - 4 x^{2} z^{2} - 16 x y z^{3} + 16 x y z^{2} + 16 y^{2} z^{3} - 16 y^{2} z^{2}$"
      ],
      "text/plain": [
       "2*u**3*x**2 - 8*u**3*x*y + 8*u**3*y**2 - 7*u**2*x**2*z - u**2*x**2 + 28*u**2*x*y*z + 4*u**2*x*y - 28*u**2*y**2*z - 4*u**2*y**2 + 4*u*x**2*z**2 + 4*u*x**2*z - 16*u*x*y*z**2 - 16*u*x*y*z + 16*u*y**2*z**2 + 16*u*y**2*z + 4*x**2*z**3 - 4*x**2*z**2 - 16*x*y*z**3 + 16*x*y*z**2 + 16*y**2*z**3 - 16*y**2*z**2"
      ]
     },
     "execution_count": 9,
     "metadata": {},
     "output_type": "execute_result"
    }
   ],
   "source": [
    "func = 2 * u**3 * x**2 - 8 * u**3 * x * y \\\n",
    "     + 8 * u**3 * y**2 - 7 * u**2 * x**2 * z \\\n",
    "     - u**2 * x**2 + 28 * u**2 * x * y * z \\\n",
    "     + 4 * u**2 * x * y - 28 * u**2 * y**2 * z \\\n",
    "     - 4 * u**2 * y**2 + 4 * u * x**2 * z**2 \\\n",
    "     + 4 * u * x**2 * z - 16 * u * x * y * z**2 \\\n",
    "     - 16 * u * x * y * z + 16 * u * y**2 * z**2 \\\n",
    "     + 16 * u * y**2 * z + 4 * x**2 * z**3 \\\n",
    "     - 4 * x**2 * z**2 - 16 * x * y * z**3 \\\n",
    "     + 16 * x * y * z**2 + 16 * y**2 * z**3 \\\n",
    "     - 16 * y**2 * z**2\n",
    "func"
   ]
  },
  {
   "cell_type": "code",
   "execution_count": 10,
   "metadata": {},
   "outputs": [
    {
     "data": {
      "text/latex": [
       "$\\displaystyle \\left(- u + 2 z\\right)^{2} \\left(x - 2 y\\right)^{2} \\left(2 u + z - 1\\right)$"
      ],
      "text/plain": [
       "(-u + 2*z)**2*(x - 2*y)**2*(2*u + z - 1)"
      ]
     },
     "execution_count": 10,
     "metadata": {},
     "output_type": "execute_result"
    }
   ],
   "source": [
    "ans = func.factor()\n",
    "ans"
   ]
  },
  {
   "cell_type": "code",
   "execution_count": 11,
   "metadata": {},
   "outputs": [
    {
     "name": "stdout",
     "output_type": "stream",
     "text": [
      "Ответ: (-u + 2*z)**2*(x - 2*y)**2*(2*u + z - 1)\n"
     ]
    }
   ],
   "source": [
    "print(f'Ответ: {ans}')"
   ]
  },
  {
   "cell_type": "markdown",
   "metadata": {},
   "source": [
    "**Задание 4.** Найдите все (включая комплексные) корни уравнения $12 x^{4} + 13 x^{3} + 68 x^{2} + 78 x - 24 = 0$."
   ]
  },
  {
   "cell_type": "code",
   "execution_count": 12,
   "metadata": {},
   "outputs": [
    {
     "data": {
      "text/latex": [
       "$\\displaystyle 12 x^{4} + 13 x^{3} + 68 x^{2} + 78 x - 24$"
      ],
      "text/plain": [
       "12*x**4 + 13*x**3 + 68*x**2 + 78*x - 24"
      ]
     },
     "execution_count": 12,
     "metadata": {},
     "output_type": "execute_result"
    }
   ],
   "source": [
    "func = 12 * x**4 + 13 * x**3 + 68 * x**2 + 78 * x - 24\n",
    "func"
   ]
  },
  {
   "cell_type": "code",
   "execution_count": 13,
   "metadata": {},
   "outputs": [
    {
     "data": {
      "text/latex": [
       "$\\displaystyle \\left\\{- \\frac{4}{3}, \\frac{1}{4}, - \\sqrt{6} i, \\sqrt{6} i\\right\\}$"
      ],
      "text/plain": [
       "{-4/3, 1/4, -sqrt(6)*I, sqrt(6)*I}"
      ]
     },
     "execution_count": 13,
     "metadata": {},
     "output_type": "execute_result"
    }
   ],
   "source": [
    "ans = solveset(func, x)\n",
    "ans"
   ]
  },
  {
   "cell_type": "code",
   "execution_count": 14,
   "metadata": {},
   "outputs": [
    {
     "name": "stdout",
     "output_type": "stream",
     "text": [
      "Ответ: {-4/3, 1/4, -sqrt(6)*I, sqrt(6)*I}\n"
     ]
    }
   ],
   "source": [
    "print(f'Ответ: {ans}')"
   ]
  },
  {
   "cell_type": "markdown",
   "metadata": {},
   "source": [
    "**Задание 5.** Постройте график функции, заданной неявно: $\\displaystyle - x^{8} + x^{4} - y^{8} + y^{4}=0$. Используйте одинаковый масштаб по координатным осям."
   ]
  },
  {
   "cell_type": "code",
   "execution_count": 15,
   "metadata": {},
   "outputs": [
    {
     "data": {
      "text/latex": [
       "$\\displaystyle - x^{8} + x^{4} - y^{8} + y^{4} = 0$"
      ],
      "text/plain": [
       "Eq(-x**8 + x**4 - y**8 + y**4, 0)"
      ]
     },
     "execution_count": 15,
     "metadata": {},
     "output_type": "execute_result"
    }
   ],
   "source": [
    "eq = Eq(-x**8 + x**4 - y**8 + y**4, 0)\n",
    "eq"
   ]
  },
  {
   "cell_type": "code",
   "execution_count": 16,
   "metadata": {},
   "outputs": [
    {
     "data": {
      "image/png": "[encoded data removed]",
      "text/plain": [
       "<Figure size 432x288 with 1 Axes>"
      ]
     },
     "metadata": {
      "needs_background": "light"
     },
     "output_type": "display_data"
    },
    {
     "data": {
      "text/plain": [
       "<sympy.plotting.plot.Plot at 0x1ada485f850>"
      ]
     },
     "execution_count": 16,
     "metadata": {},
     "output_type": "execute_result"
    }
   ],
   "source": [
    "ans = plot_implicit(eq, (x, -1.5, 1.5), (y, -1.5, 1.5), aspect_ratio=(1, 1))\n",
    "ans"
   ]
  },
  {
   "cell_type": "markdown",
   "metadata": {},
   "source": [
    "**Задание 6.** Постройте график функции, заданной параметрически: $\\displaystyle x(t)=6 \\sin{\\left (5 t \\right )}$, $\\displaystyle y(t)=4 \\sin{\\left (4 t \\right )}$. Используйте минимальный по длине промежуток изменения параметра и одинаковый масштаб по координатным осям."
   ]
  },
  {
   "cell_type": "code",
   "execution_count": 17,
   "metadata": {},
   "outputs": [],
   "source": [
    "t = symbols('t')"
   ]
  },
  {
   "cell_type": "code",
   "execution_count": 18,
   "metadata": {},
   "outputs": [
    {
     "data": {
      "image/png": "[encoded data removed]",
      "text/plain": [
       "<Figure size 432x288 with 1 Axes>"
      ]
     },
     "metadata": {
      "needs_background": "light"
     },
     "output_type": "display_data"
    },
    {
     "data": {
      "text/plain": [
       "<sympy.plotting.plot.Plot at 0x1ada58823d0>"
      ]
     },
     "execution_count": 18,
     "metadata": {},
     "output_type": "execute_result"
    }
   ],
   "source": [
    "ans = plot_parametric((6 * sin(5 * t), 4 * sin(4 * t)), (t, 0, 2*pi), aspect_ratio=(1, 1))\n",
    "ans"
   ]
  }
 ],
 "metadata": {
  "kernelspec": {
   "display_name": "Python 3 (ipykernel)",
   "language": "python",
   "name": "python3"
  },
  "language_info": {
   "codemirror_mode": {
    "name": "ipython",
    "version": 3
   },
   "file_extension": ".py",
   "mimetype": "text/x-python",
   "name": "python",
   "nbconvert_exporter": "python",
   "pygments_lexer": "ipython3",
   "version": "3.9.7"
  }
 },
 "nbformat": 4,
 "nbformat_minor": 2
}
